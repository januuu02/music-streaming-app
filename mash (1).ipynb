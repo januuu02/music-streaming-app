{
 "cells": [
  {
   "cell_type": "code",
   "execution_count": 1,
   "id": "b7e38672-54d6-45f8-aa0f-e4e984d70ff4",
   "metadata": {},
   "outputs": [],
   "source": [
    "import soundfile as sf\n",
    "import librosa\n",
    "import numpy as np\n"
   ]
  },
  {
   "cell_type": "code",
   "execution_count": 2,
   "id": "ea372377-4f6b-4b50-8cd7-8befeaedce79",
   "metadata": {},
   "outputs": [],
   "source": [
    "def load_audio(audio_file, target_length):\n",
    "    # Load audio file\n",
    "    y, sr = librosa.load(audio_file, sr=None)\n",
    "    \n",
    "    # If the audio is longer than the target length, truncate it\n",
    "    if len(y) > target_length:\n",
    "        y = y[:target_length]\n",
    "    \n",
    "    return y, sr"
   ]
  },
  {
   "cell_type": "code",
   "execution_count": 3,
   "id": "09de780a-078f-4880-a7ac-7faac783e912",
   "metadata": {},
   "outputs": [],
   "source": [
    "def extract_features(y, sr):\n",
    "    # Extract features from audio file (e.g., tempo, chroma)\n",
    "    tempo, _ = librosa.beat.beat_track(y=y, sr=sr)\n",
    "    chroma = librosa.feature.chroma_stft(y=y, sr=sr)\n",
    "    return tempo, chroma"
   ]
  },
  {
   "cell_type": "code",
   "execution_count": 4,
   "id": "55a1b235-a537-4651-b9b4-333aabe8e533",
   "metadata": {},
   "outputs": [],
   "source": [
    "def mix_audio(audio1, audio2):\n",
    "    # Mix two audio signals by appending the shorter one with zeros\n",
    "    length_diff = len(audio1) - len(audio2)\n",
    "    if length_diff > 0:\n",
    "        audio2 = np.pad(audio2, (0, length_diff), mode='constant')\n",
    "    elif length_diff < 0:\n",
    "        audio1 = np.pad(audio1, (0, -length_diff), mode='constant')\n",
    "    mixed_audio = 0.5 * (audio1 + audio2)\n",
    "    return mixed_audio"
   ]
  },
  {
   "cell_type": "code",
   "execution_count": 5,
   "id": "122c354e-b49c-451a-b934-17092ab52d68",
   "metadata": {},
   "outputs": [],
   "source": [
    "target_length = 44100 * 210 "
   ]
  },
  {
   "cell_type": "code",
   "execution_count": 6,
   "id": "d0959ca4-4203-4028-8572-c9a1d492d3c8",
   "metadata": {},
   "outputs": [],
   "source": [
    "song1, sr1 = load_audio(\"uptownfunk.wav\", target_length)\n",
    "song2, sr2 = load_audio(\"billiejeans.wav\", target_length)"
   ]
  },
  {
   "cell_type": "code",
   "execution_count": 7,
   "id": "778f0b57-2644-48ab-b27f-e1e4b15ea33a",
   "metadata": {},
   "outputs": [],
   "source": [
    "tempo1, chroma1 = extract_features(song1, sr1)\n",
    "tempo2, chroma2 = extract_features(song2, sr2)"
   ]
  },
  {
   "cell_type": "code",
   "execution_count": 8,
   "id": "f5ef3e56-c9cf-4304-91af-62d7d9389d42",
   "metadata": {},
   "outputs": [],
   "source": [
    "mixed_song = mix_audio(song1, song2)"
   ]
  },
  {
   "cell_type": "code",
   "execution_count": 10,
   "id": "dbae1164-7bf5-4e1a-b87b-28301c9f1afc",
   "metadata": {},
   "outputs": [
    {
     "name": "stdout",
     "output_type": "stream",
     "text": [
      "Mashup created successfully!\n"
     ]
    }
   ],
   "source": [
    "sf.write(\"C:/Users/janan/Downloads/mixed_song.wav\", mixed_song, sr1)  # Assuming the same sampling rate for both songs\n",
    "print(\"Mashup created successfully!\")"
   ]
  },
  {
   "cell_type": "code",
   "execution_count": null,
   "id": "a5431a79-4240-4c5b-b4f4-f336525ff34b",
   "metadata": {},
   "outputs": [],
   "source": []
  }
 ],
 "metadata": {
  "kernelspec": {
   "display_name": "Python 3 (ipykernel)",
   "language": "python",
   "name": "python3"
  },
  "language_info": {
   "codemirror_mode": {
    "name": "ipython",
    "version": 3
   },
   "file_extension": ".py",
   "mimetype": "text/x-python",
   "name": "python",
   "nbconvert_exporter": "python",
   "pygments_lexer": "ipython3",
   "version": "3.11.5"
  }
 },
 "nbformat": 4,
 "nbformat_minor": 5
}
